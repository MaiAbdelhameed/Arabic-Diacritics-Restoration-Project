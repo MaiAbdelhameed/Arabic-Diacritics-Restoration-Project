{
 "cells": [
  {
   "cell_type": "markdown",
   "metadata": {},
   "source": [
    "Preprocessing ideas: \n",
    "1) Removal of not arabic \n",
    "2) Removal and saving of diacritics \n",
    "3) Segementation\n",
    "4) Tokenization\n",
    "5) Lemmatization\n",
    "\n",
    "Feature Extraction ideas: \n",
    "1) POS\n",
    "2) Morphological quadruples\n",
    "3) Context\n",
    "4) Last character\n"
   ]
  },
  {
   "cell_type": "code",
   "execution_count": 1,
   "metadata": {},
   "outputs": [
    {
     "name": "stdout",
     "output_type": "stream",
     "text": [
      "Requirement already satisfied: pyarabic in c:\\users\\mai\\anaconda3\\lib\\site-packages (0.6.15)\n",
      "Requirement already satisfied: six>=1.14.0 in c:\\users\\mai\\appdata\\roaming\\python\\python39\\site-packages (from pyarabic) (1.16.0)\n"
     ]
    }
   ],
   "source": [
    "!pip install pyarabic"
   ]
  },
  {
   "cell_type": "code",
   "execution_count": 2,
   "metadata": {},
   "outputs": [
    {
     "name": "stderr",
     "output_type": "stream",
     "text": [
      "c:\\Users\\Mai\\anaconda3\\lib\\site-packages\\scipy\\__init__.py:146: UserWarning: A NumPy version >=1.16.5 and <1.23.0 is required for this version of SciPy (detected version 1.26.2\n",
      "  warnings.warn(f\"A NumPy version >={np_minversion} and <{np_maxversion}\"\n",
      "[nltk_data] Downloading package punkt to\n",
      "[nltk_data]     C:\\Users\\Mai\\AppData\\Roaming\\nltk_data...\n",
      "[nltk_data]   Package punkt is already up-to-date!\n"
     ]
    },
    {
     "data": {
      "text/plain": [
       "True"
      ]
     },
     "execution_count": 2,
     "metadata": {},
     "output_type": "execute_result"
    }
   ],
   "source": [
    "import nltk\n",
    "from nltk.tokenize import word_tokenize\n",
    "nltk.download('punkt')"
   ]
  },
  {
   "cell_type": "code",
   "execution_count": 3,
   "metadata": {},
   "outputs": [],
   "source": [
    "import re\n",
    "from Input_Utils import input_utils\n",
    "from Preprocessing import preprocessing_utils\n",
    "import pyarabic.araby as araby\n",
    "from pyarabic.araby import strip_tashkeel, is_arabicrange, strip_diacritics\n"
   ]
  },
  {
   "cell_type": "code",
   "execution_count": 4,
   "metadata": {},
   "outputs": [],
   "source": [
    "def remove_diacritics(text):\n",
    "    stripped = araby.strip_diacritics(text)\n",
    "    diacritics_dic = [{i: char} for i,char in enumerate(text) if char not in stripped]\n",
    "    return stripped, diacritics_dic"
   ]
  },
  {
   "cell_type": "code",
   "execution_count": 5,
   "metadata": {},
   "outputs": [],
   "source": [
    "def remove_non_arabic_char(text):\n",
    "    regex = re.compile('[^؀-ۿ ]')\n",
    "    result = regex.sub('', text)\n",
    "    return result"
   ]
  },
  {
   "cell_type": "code",
   "execution_count": 6,
   "metadata": {},
   "outputs": [],
   "source": [
    "train_dataset = input_utils.read_input('Dataset/train.txt')\n",
    "text = train_dataset[0]\n",
    "result = remove_non_arabic_char(text)\n",
    "stripped, diacritics = remove_diacritics(result)"
   ]
  },
  {
   "cell_type": "code",
   "execution_count": 7,
   "metadata": {},
   "outputs": [
    {
     "name": "stdout",
     "output_type": "stream",
     "text": [
      "Requirement already satisfied: qalsadi in c:\\users\\mai\\anaconda3\\lib\\site-packages (0.5)\n",
      "Requirement already satisfied: naftawayh>=0.3 in c:\\users\\mai\\anaconda3\\lib\\site-packages (from qalsadi) (0.4)\n",
      "Requirement already satisfied: codernitydb3 in c:\\users\\mai\\anaconda3\\lib\\site-packages (from qalsadi) (0.6.0)\n",
      "Requirement already satisfied: arramooz-pysqlite>=0.4.2 in c:\\users\\mai\\anaconda3\\lib\\site-packages (from qalsadi) (0.4.2)\n",
      "Requirement already satisfied: pickledb>=0.9.2 in c:\\users\\mai\\anaconda3\\lib\\site-packages (from qalsadi) (0.9.2)\n",
      "Requirement already satisfied: pyarabic>=0.6.7 in c:\\users\\mai\\anaconda3\\lib\\site-packages (from qalsadi) (0.6.15)\n",
      "Requirement already satisfied: tashaphyne>=0.3.4.1 in c:\\users\\mai\\anaconda3\\lib\\site-packages (from qalsadi) (0.3.6)\n",
      "Requirement already satisfied: libqutrub>=1.2.3 in c:\\users\\mai\\anaconda3\\lib\\site-packages (from qalsadi) (1.2.4.1)\n",
      "Requirement already satisfied: Arabic-Stopwords>=0.4.2 in c:\\users\\mai\\anaconda3\\lib\\site-packages (from qalsadi) (0.4.3)\n",
      "Requirement already satisfied: mysam-tagmanager>=0.3.3 in c:\\users\\mai\\anaconda3\\lib\\site-packages (from qalsadi) (0.4)\n",
      "Requirement already satisfied: alyahmor>=0.2 in c:\\users\\mai\\anaconda3\\lib\\site-packages (from qalsadi) (0.2)\n",
      "Requirement already satisfied: six>=1.14.0 in c:\\users\\mai\\appdata\\roaming\\python\\python39\\site-packages (from pyarabic>=0.6.7->qalsadi) (1.16.0)\n"
     ]
    }
   ],
   "source": [
    "!pip install qalsadi\n",
    "import qalsadi"
   ]
  },
  {
   "cell_type": "code",
   "execution_count": 8,
   "metadata": {},
   "outputs": [],
   "source": [
    "import qalsadi.lemmatizer"
   ]
  },
  {
   "cell_type": "code",
   "execution_count": 9,
   "metadata": {},
   "outputs": [
    {
     "data": {
      "text/plain": [
       "['عل']"
      ]
     },
     "execution_count": 9,
     "metadata": {},
     "output_type": "execute_result"
    }
   ],
   "source": [
    "lemmer = qalsadi.lemmatizer.Lemmatizer()\n",
    "lemmas = lemmer.lemmatize_text('فعل')\n",
    "lemmas"
   ]
  },
  {
   "cell_type": "code",
   "execution_count": 10,
   "metadata": {},
   "outputs": [
    {
     "name": "stdout",
     "output_type": "stream",
     "text": [
      "Looking in indexes: https://test.pypi.org/simple/\n",
      "Requirement already satisfied: FarasaPy3 in c:\\users\\mai\\appdata\\local\\packages\\pythonsoftwarefoundation.python.3.10_qbz5n2kfra8p0\\localcache\\local-packages\\python310\\site-packages (2.0.1)\n"
     ]
    }
   ],
   "source": [
    "!python3 -m pip install --index-url https://test.pypi.org/simple/ --no-deps FarasaPy3"
   ]
  },
  {
   "cell_type": "code",
   "execution_count": 15,
   "metadata": {},
   "outputs": [
    {
     "ename": "ModuleNotFoundError",
     "evalue": "No module named 'FarasaPy3'",
     "output_type": "error",
     "traceback": [
      "\u001b[1;31m---------------------------------------------------------------------------\u001b[0m",
      "\u001b[1;31mModuleNotFoundError\u001b[0m                       Traceback (most recent call last)",
      "Cell \u001b[1;32mIn [15], line 1\u001b[0m\n\u001b[1;32m----> 1\u001b[0m \u001b[38;5;28;01mimport\u001b[39;00m \u001b[38;5;21;01mFarasaPy3\u001b[39;00m\n\u001b[0;32m      2\u001b[0m \u001b[38;5;28;01mfrom\u001b[39;00m \u001b[38;5;21;01mFarasaPy3\u001b[39;00m\u001b[38;5;21;01m.\u001b[39;00m\u001b[38;5;21;01mapi\u001b[39;00m \u001b[38;5;28;01mimport\u001b[39;00m FarasaPy3\n\u001b[0;32m      3\u001b[0m farasaApi \u001b[38;5;241m=\u001b[39m FarasaPy3()\n",
      "\u001b[1;31mModuleNotFoundError\u001b[0m: No module named 'FarasaPy3'"
     ]
    }
   ],
   "source": [
    "import FarasaPy3\n",
    "from FarasaPy3.api import FarasaPy3\n",
    "farasaApi = FarasaPy3()\n",
    "result = farasaApi.Segmentation(text)\n",
    "print(result)"
   ]
  },
  {
   "cell_type": "code",
   "execution_count": null,
   "metadata": {},
   "outputs": [],
   "source": []
  }
 ],
 "metadata": {
  "kernelspec": {
   "display_name": "base",
   "language": "python",
   "name": "python3"
  },
  "language_info": {
   "codemirror_mode": {
    "name": "ipython",
    "version": 3
   },
   "file_extension": ".py",
   "mimetype": "text/x-python",
   "name": "python",
   "nbconvert_exporter": "python",
   "pygments_lexer": "ipython3",
   "version": "3.9.12"
  }
 },
 "nbformat": 4,
 "nbformat_minor": 2
}
